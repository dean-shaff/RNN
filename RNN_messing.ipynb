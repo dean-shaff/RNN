{
 "cells": [
  {
   "cell_type": "code",
   "execution_count": 1,
   "metadata": {
    "collapsed": false
   },
   "outputs": [
    {
     "name": "stdout",
     "output_type": "stream",
     "text": [
      "Time creating character mapping and pickling: 1.9811 sec\n",
      "Time creating k map 3.767 sec\n",
      "Time creating arrays: 2.024 sec\n"
     ]
    }
   ],
   "source": [
    "from character_mapping import Character_Map \n",
    "import theano \n",
    "import theano.tensor as T\n",
    "import numpy as np \n",
    "\n",
    "text_test = './../texts/melville.txt'\n",
    "char_map_obj = Character_Map(text_test,'mapping.dat',overwrite=True, break_line=None)\n",
    "char_map_obj.k_map()\n",
    "x_, y_, shared_x, shared_y = char_map_obj.gen_x_and_y(filename=None)\n",
    "\n",
    "# print(shared_y.get_value().shape[1])\n",
    "nh = 100\n",
    "nx = len(char_map_obj.unique_char)\n",
    "ny = nx "
   ]
  },
  {
   "cell_type": "code",
   "execution_count": null,
   "metadata": {
    "collapsed": false
   },
   "outputs": [
    {
     "name": "stdout",
     "output_type": "stream",
     "text": [
      "function compiled\n",
      "\n",
      "\n",
      "\n",
      "Sum for minibatch number 0 out of 793: 6.60681310652\n",
      "Sum for minibatch number 30 out of 793: 6.24937824451\n",
      "Sum for minibatch number 60 out of 793: 5.66259499246\n",
      "Sum for minibatch number 90 out of 793: 5.34444393678\n",
      "Sum for minibatch number 120 out of 793: 5.54441898945\n",
      "Sum for minibatch number 150 out of 793: 5.24696254355\n",
      "Sum for minibatch number 180 out of 793: 5.23237493649\n",
      "Sum for minibatch number 210 out of 793: 5.25826533658"
     ]
    }
   ],
   "source": [
    "import theano \n",
    "import theano.tensor as T \n",
    "import numpy as np \n",
    "from character_mapping import Character_Map\n",
    "import time\n",
    "try:\n",
    "    reload\n",
    "except NameError:\n",
    "    from imp import reload\n",
    "    \n",
    "import RNN  \n",
    "from RNN import RNNClass\n",
    "\n",
    "reload(RNN)\n",
    "from RNN import RNNClass\n",
    "\n",
    "trainer = RNNClass(nh, nx, ny)\n",
    "trainer.train_no_index(training_data=(shared_x,shared_y),\n",
    "                       learning_rate=0.01,\n",
    "                       n_epochs=100,mini_batch_size=100)"
   ]
  },
  {
   "cell_type": "code",
   "execution_count": null,
   "metadata": {
    "collapsed": false
   },
   "outputs": [],
   "source": [
    "\n"
   ]
  },
  {
   "cell_type": "code",
   "execution_count": null,
   "metadata": {
    "collapsed": true
   },
   "outputs": [],
   "source": []
  }
 ],
 "metadata": {
  "kernelspec": {
   "display_name": "Python 2",
   "language": "python",
   "name": "python2"
  },
  "language_info": {
   "codemirror_mode": {
    "name": "ipython",
    "version": 2
   },
   "file_extension": ".py",
   "mimetype": "text/x-python",
   "name": "python",
   "nbconvert_exporter": "python",
   "pygments_lexer": "ipython2",
   "version": "2.7.6"
  }
 },
 "nbformat": 4,
 "nbformat_minor": 0
}
