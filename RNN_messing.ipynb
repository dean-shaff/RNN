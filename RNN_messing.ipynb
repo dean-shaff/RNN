{
 "cells": [
  {
   "cell_type": "code",
   "execution_count": 1,
   "metadata": {
    "collapsed": false
   },
   "outputs": [
    {
     "name": "stdout",
     "output_type": "stream",
     "text": [
      "Time creating character mapping and pickling: 1.9811 sec\n",
      "Time creating k map 3.767 sec\n",
      "Time creating arrays: 2.024 sec\n"
     ]
    }
   ],
   "source": [
    "from character_mapping import Character_Map \n",
    "import theano \n",
    "import theano.tensor as T\n",
    "import numpy as np \n",
    "\n",
    "text_test = './../texts/melville.txt'\n",
    "char_map_obj = Character_Map(text_test,'mapping.dat',overwrite=True, break_line=None)\n",
    "char_map_obj.k_map()\n",
    "x_, y_, shared_x, shared_y = char_map_obj.gen_x_and_y(filename=None)\n",
    "\n",
    "# print(shared_y.get_value().shape[1])\n",
    "nh = 100\n",
    "nx = len(char_map_obj.unique_char)\n",
    "ny = nx "
   ]
  },
  {
   "cell_type": "code",
   "execution_count": 11,
   "metadata": {
    "collapsed": false
   },
   "outputs": [
    {
     "name": "stdout",
     "output_type": "stream",
     "text": [
      "<TensorType(float64, 3D)>\n",
      "<TensorType(float64, 3D)>\n"
     ]
    }
   ],
   "source": []
  },
  {
   "cell_type": "code",
   "execution_count": null,
   "metadata": {
    "collapsed": false
   },
   "outputs": [
    {
     "name": "stdout",
     "output_type": "stream",
     "text": [
      "Saving initial parameters\n",
      "Function compiled\n",
      "\n",
      "\n",
      "30 out of 79 minibatches done, took 3.314\n",
      "30 out of 79 minibatches done, took 3.392\n",
      "30 out of 79 minibatches done, took 3.461\n",
      "Epoch number 0, took 280.850 sec\n",
      "Pickling epoch number 0 took 0.033 sec\n",
      "30 out of 79 minibatches done, took 3.820"
     ]
    }
   ],
   "source": [
    "import theano \n",
    "import theano.tensor as T \n",
    "import numpy as np \n",
    "from character_mapping import Character_Map\n",
    "import time\n",
    "try:\n",
    "    reload\n",
    "except NameError:\n",
    "    from imp import reload\n",
    "    \n",
    "import RNN  \n",
    "from RNN import RNNClass\n",
    "\n",
    "reload(RNN)\n",
    "from RNN import RNNClass\n",
    "\n",
    "trainer = RNNClass(nh, nx, ny)\n",
    "# trainer.train_no_index(training_data=(shared_x,shared_y),\n",
    "#                        learning_rate=0.01,\n",
    "#                        n_epochs=100,mini_batch_size=100)\n",
    "\n",
    "trainer.train_index(training_data=(shared_x,shared_y),\n",
    "                       learning_rate=0.001,\n",
    "                       n_epochs=100,mini_batch_size=1000)\n",
    "\n",
    "# x = T.matrix('x')\n",
    "# y = T.matrix('y')\n",
    "\n",
    "\n",
    "# cost = trainer.cross_entropy_loss(x,y)\n",
    "\n",
    "# cost_fn = theano.function(\n",
    "#     inputs = [x,y],\n",
    "#     outputs = cost\n",
    "#     )\n",
    "# print(\"cost compiled\")\n"
   ]
  },
  {
   "cell_type": "code",
   "execution_count": 71,
   "metadata": {
    "collapsed": false
   },
   "outputs": [
    {
     "name": "stdout",
     "output_type": "stream",
     "text": [
      "loss_fn compiled\n",
      "1.41085410118\n",
      "1.41524791718\n"
     ]
    }
   ],
   "source": [
    "import numpy as np\n",
    "import time \n",
    "xs = T.tensor3('xs')\n",
    "ys = T.tensor3('ys')\n",
    "x0 = T.matrix('x0')\n",
    "\n",
    "results1, updates1 = theano.scan(lambda prev_cost, xi, yi: trainer.cross_entropy_loss(xi, yi) + prev_cost,\n",
    "                              sequences = [xs,ys],\n",
    "                              outputs_info = trainer.cross_entropy_loss(xs[0],ys[0]))\n",
    "results2, updates2 = theano.scan(lambda xi, yi: trainer.cross_entropy_loss(xi, yi),\n",
    "                              sequences = [xs,ys])\n",
    "                              #outputs_info = trainer.cross_entropy_loss(xs[0],ys[0]))\n",
    "loss_fn1 = theano.function(\n",
    "    inputs = [xs,ys],\n",
    "    outputs = -T.mean(results1[-1])\n",
    ")\n",
    "loss_fn2 = theano.function(\n",
    "    inputs = [xs,ys],\n",
    "    outputs = -T.mean(results2)\n",
    ")\n",
    "print(\"loss_fn compiled\")\n",
    "t1 = time.time()\n",
    "loss1 = loss_fn1(shared_x.get_value()[0:500], shared_y.get_value()[0:500])\n",
    "print(time.time()-t1)\n",
    "t2 = time.time()\n",
    "loss2 = loss_fn2(shared_x.get_value()[0:500], shared_y.get_value()[0:500])\n",
    "print(time.time()-t2)\n",
    "# loss2 = -np.mean(loss1, axis=0)\n",
    "# loss2.shape"
   ]
  },
  {
   "cell_type": "code",
   "execution_count": null,
   "metadata": {
    "collapsed": false
   },
   "outputs": [],
   "source": [
    "\n"
   ]
  },
  {
   "cell_type": "code",
   "execution_count": null,
   "metadata": {
    "collapsed": true
   },
   "outputs": [],
   "source": []
  }
 ],
 "metadata": {
  "kernelspec": {
   "display_name": "Python 2",
   "language": "python",
   "name": "python2"
  },
  "language_info": {
   "codemirror_mode": {
    "name": "ipython",
    "version": 2
   },
   "file_extension": ".py",
   "mimetype": "text/x-python",
   "name": "python",
   "nbconvert_exporter": "python",
   "pygments_lexer": "ipython2",
   "version": "2.7.6"
  }
 },
 "nbformat": 4,
 "nbformat_minor": 0
}
