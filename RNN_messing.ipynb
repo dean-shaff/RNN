{
 "cells": [
  {
   "cell_type": "code",
   "execution_count": 2,
   "metadata": {
    "collapsed": false
   },
   "outputs": [
    {
     "name": "stdout",
     "output_type": "stream",
     "text": [
      "Time creating character mapping and pickling: 1.9106 sec\n",
      "Time creating k map 3.451 sec\n",
      "Time creating arrays: 2.451 sec\n"
     ]
    }
   ],
   "source": [
    "from character_mapping import Character_Map \n",
    "import theano \n",
    "import theano.tensor as T\n",
    "import numpy as np \n",
    "\n",
    "text_test = './../texts/melville.txt'\n",
    "char_map_obj = Character_Map(text_test,'mapping.dat',overwrite=True, break_line=None)\n",
    "char_map_obj.k_map()\n",
    "x_, y_, shared_x, shared_y = char_map_obj.gen_x_and_y(filename=None)\n",
    "\n",
    "# print(shared_y.get_value().shape[1])\n",
    "nh = 100\n",
    "nx = len(char_map_obj.unique_char)\n",
    "ny = nx "
   ]
  },
  {
   "cell_type": "code",
   "execution_count": 11,
   "metadata": {
    "collapsed": false
   },
   "outputs": [
    {
     "name": "stdout",
     "output_type": "stream",
     "text": [
      "<TensorType(float64, 3D)>\n",
      "<TensorType(float64, 3D)>\n"
     ]
    }
   ],
   "source": []
  },
  {
   "cell_type": "code",
   "execution_count": 10,
   "metadata": {
    "collapsed": false
   },
   "outputs": [
    {
     "ename": "ValueError",
     "evalue": "When compiling the inner function of scan the following error has been encountered: The initial state (`outputs_info` in scan nomenclature) of variable IncSubtensor{Set;:int64:}.0 (argument number 1) has 2 dimension(s), while the result of the inner function (`fn`) has 2 dimension(s) (should be one less than the initial state).",
     "output_type": "error",
     "traceback": [
      "\u001b[0;31m---------------------------------------------------------------------------\u001b[0m",
      "\u001b[0;31mValueError\u001b[0m                                Traceback (most recent call last)",
      "\u001b[0;32m<ipython-input-10-28742a24f390>\u001b[0m in \u001b[0;36m<module>\u001b[0;34m()\u001b[0m\n\u001b[1;32m     31\u001b[0m [h,s], _ = theano.scan(lambda y_prev, h: trainer.feed_through(y_prev,h),\n\u001b[1;32m     32\u001b[0m                       \u001b[0moutputs_info\u001b[0m\u001b[0;34m=\u001b[0m\u001b[0;34m[\u001b[0m\u001b[0mx0\u001b[0m\u001b[0;34m,\u001b[0m \u001b[0mtrainer\u001b[0m\u001b[0;34m.\u001b[0m\u001b[0mh0\u001b[0m\u001b[0;34m]\u001b[0m\u001b[0;34m,\u001b[0m\u001b[0;34m\u001b[0m\u001b[0m\n\u001b[0;32m---> 33\u001b[0;31m                       n_steps=15)\n\u001b[0m\u001b[1;32m     34\u001b[0m \u001b[0;34m\u001b[0m\u001b[0m\n\u001b[1;32m     35\u001b[0m \u001b[0;34m\u001b[0m\u001b[0m\n",
      "\u001b[0;32m/Library/Python/2.7/site-packages/theano/scan_module/scan.pyc\u001b[0m in \u001b[0;36mscan\u001b[0;34m(fn, sequences, outputs_info, non_sequences, n_steps, truncate_gradient, go_backwards, mode, name, profile, allow_gc, strict)\u001b[0m\n\u001b[1;32m   1040\u001b[0m             \u001b[0;32mpass\u001b[0m\u001b[0;34m\u001b[0m\u001b[0m\n\u001b[1;32m   1041\u001b[0m         \u001b[0mscan_inputs\u001b[0m \u001b[0;34m+=\u001b[0m \u001b[0;34m[\u001b[0m\u001b[0marg\u001b[0m\u001b[0;34m]\u001b[0m\u001b[0;34m\u001b[0m\u001b[0m\n\u001b[0;32m-> 1042\u001b[0;31m     \u001b[0mscan_outs\u001b[0m \u001b[0;34m=\u001b[0m \u001b[0mlocal_op\u001b[0m\u001b[0;34m(\u001b[0m\u001b[0;34m*\u001b[0m\u001b[0mscan_inputs\u001b[0m\u001b[0;34m)\u001b[0m\u001b[0;34m\u001b[0m\u001b[0m\n\u001b[0m\u001b[1;32m   1043\u001b[0m     \u001b[0;32mif\u001b[0m \u001b[0mtype\u001b[0m\u001b[0;34m(\u001b[0m\u001b[0mscan_outs\u001b[0m\u001b[0;34m)\u001b[0m \u001b[0;32mnot\u001b[0m \u001b[0;32min\u001b[0m \u001b[0;34m(\u001b[0m\u001b[0mlist\u001b[0m\u001b[0;34m,\u001b[0m \u001b[0mtuple\u001b[0m\u001b[0;34m)\u001b[0m\u001b[0;34m:\u001b[0m\u001b[0;34m\u001b[0m\u001b[0m\n\u001b[1;32m   1044\u001b[0m         \u001b[0mscan_outs\u001b[0m \u001b[0;34m=\u001b[0m \u001b[0;34m[\u001b[0m\u001b[0mscan_outs\u001b[0m\u001b[0;34m]\u001b[0m\u001b[0;34m\u001b[0m\u001b[0m\n",
      "\u001b[0;32m/Library/Python/2.7/site-packages/theano/gof/op.pyc\u001b[0m in \u001b[0;36m__call__\u001b[0;34m(self, *inputs, **kwargs)\u001b[0m\n\u001b[1;32m    505\u001b[0m         \"\"\"\n\u001b[1;32m    506\u001b[0m         \u001b[0mreturn_list\u001b[0m \u001b[0;34m=\u001b[0m \u001b[0mkwargs\u001b[0m\u001b[0;34m.\u001b[0m\u001b[0mpop\u001b[0m\u001b[0;34m(\u001b[0m\u001b[0;34m'return_list'\u001b[0m\u001b[0;34m,\u001b[0m \u001b[0mFalse\u001b[0m\u001b[0;34m)\u001b[0m\u001b[0;34m\u001b[0m\u001b[0m\n\u001b[0;32m--> 507\u001b[0;31m         \u001b[0mnode\u001b[0m \u001b[0;34m=\u001b[0m \u001b[0mself\u001b[0m\u001b[0;34m.\u001b[0m\u001b[0mmake_node\u001b[0m\u001b[0;34m(\u001b[0m\u001b[0;34m*\u001b[0m\u001b[0minputs\u001b[0m\u001b[0;34m,\u001b[0m \u001b[0;34m**\u001b[0m\u001b[0mkwargs\u001b[0m\u001b[0;34m)\u001b[0m\u001b[0;34m\u001b[0m\u001b[0m\n\u001b[0m\u001b[1;32m    508\u001b[0m \u001b[0;34m\u001b[0m\u001b[0m\n\u001b[1;32m    509\u001b[0m         \u001b[0;32mif\u001b[0m \u001b[0mconfig\u001b[0m\u001b[0;34m.\u001b[0m\u001b[0mcompute_test_value\u001b[0m \u001b[0;34m!=\u001b[0m \u001b[0;34m'off'\u001b[0m\u001b[0;34m:\u001b[0m\u001b[0;34m\u001b[0m\u001b[0m\n",
      "\u001b[0;32m/Library/Python/2.7/site-packages/theano/scan_module/scan_op.pyc\u001b[0m in \u001b[0;36mmake_node\u001b[0;34m(self, *inputs)\u001b[0m\n\u001b[1;32m    378\u001b[0m                                   \u001b[0margoffset\u001b[0m \u001b[0;34m+\u001b[0m \u001b[0midx\u001b[0m\u001b[0;34m,\u001b[0m\u001b[0;34m\u001b[0m\u001b[0m\n\u001b[1;32m    379\u001b[0m                                   \u001b[0mouter_sitsot\u001b[0m\u001b[0;34m.\u001b[0m\u001b[0mtype\u001b[0m\u001b[0;34m.\u001b[0m\u001b[0mndim\u001b[0m\u001b[0;34m,\u001b[0m\u001b[0;34m\u001b[0m\u001b[0m\n\u001b[0;32m--> 380\u001b[0;31m                                   inner_sitsot_out.type.ndim))\n\u001b[0m\u001b[1;32m    381\u001b[0m \u001b[0;34m\u001b[0m\u001b[0m\n\u001b[1;32m    382\u001b[0m         \u001b[0margoffset\u001b[0m \u001b[0;34m+=\u001b[0m \u001b[0mlen\u001b[0m\u001b[0;34m(\u001b[0m\u001b[0mself\u001b[0m\u001b[0;34m.\u001b[0m\u001b[0mouter_sitsot\u001b[0m\u001b[0;34m(\u001b[0m\u001b[0minputs\u001b[0m\u001b[0;34m)\u001b[0m\u001b[0;34m)\u001b[0m\u001b[0;34m\u001b[0m\u001b[0m\n",
      "\u001b[0;31mValueError\u001b[0m: When compiling the inner function of scan the following error has been encountered: The initial state (`outputs_info` in scan nomenclature) of variable IncSubtensor{Set;:int64:}.0 (argument number 1) has 2 dimension(s), while the result of the inner function (`fn`) has 2 dimension(s) (should be one less than the initial state)."
     ]
    }
   ],
   "source": [
    "import theano \n",
    "import theano.tensor as T \n",
    "import numpy as np \n",
    "from character_mapping import Character_Map\n",
    "import time\n",
    "try:\n",
    "    reload\n",
    "except NameError:\n",
    "    from imp import reload\n",
    "    \n",
    "import RNN  \n",
    "from RNN import RNNClass\n",
    "\n",
    "reload(RNN)\n",
    "from RNN import RNNClass\n",
    "\n",
    "trainer = RNNClass(nh, nx, ny)\n",
    "trainer.load_param('param_6-10_17:52/param_epoch199.dat')\n",
    "\n",
    "def gen_sentence(x_init):\n",
    "    ys = [] \n",
    "    y, h = trainer.feed_through(x_init, trainer.h0)\n",
    "    ys.append(y)\n",
    "    for i in xrange(1, 15):\n",
    "        y, h = trainer.feed_through(y,h)\n",
    "        ys.append(y)\n",
    "        \n",
    "    return ys\n",
    "\n",
    "x0 = T.vector('x0')\n",
    "i = T.iscalar('i')\n",
    "[h,s], _ = theano.scan(fn = lambda y_prev, h: trainer.feed_through(y_prev,h),\n",
    "                      outputs_info=[x0, trainer.h0],\n",
    "                      n_steps=i)\n",
    "\n",
    "y_guess = s[:,0,:]\n",
    "\n",
    "y = gen_sentence(x0)\n",
    "f = theano.function([x0],y)\n",
    "f(x_[0][0])\n",
    "# print(x_[0][0])\n",
    "\n",
    "# trainer.train_no_index(training_data=(shared_x,shared_y),\n",
    "#                        learning_rate=0.01,\n",
    "#                        n_epochs=100,mini_batch_size=100)\n",
    "\n",
    "# trainer.train_index(training_data=(shared_x,shared_y),\n",
    "#                        learning_rate=0.001,\n",
    "#                        n_epochs=100,mini_batch_size=1000)\n",
    "\n",
    "# x = T.matrix('x')\n",
    "# y = T.matrix('y')\n",
    "\n",
    "\n",
    "# cost = trainer.cross_entropy_loss(x,y)\n",
    "\n",
    "# cost_fn = theano.function(\n",
    "#     inputs = [x,y],\n",
    "#     outputs = cost\n",
    "#     )\n",
    "# print(\"cost compiled\")\n"
   ]
  },
  {
   "cell_type": "code",
   "execution_count": 71,
   "metadata": {
    "collapsed": false
   },
   "outputs": [
    {
     "name": "stdout",
     "output_type": "stream",
     "text": [
      "loss_fn compiled\n",
      "1.41085410118\n",
      "1.41524791718\n"
     ]
    }
   ],
   "source": [
    "import numpy as np\n",
    "import time \n",
    "xs = T.tensor3('xs')\n",
    "ys = T.tensor3('ys')\n",
    "x0 = T.matrix('x0')\n",
    "\n",
    "results1, updates1 = theano.scan(lambda prev_cost, xi, yi: trainer.cross_entropy_loss(xi, yi) + prev_cost,\n",
    "                              sequences = [xs,ys],\n",
    "                              outputs_info = trainer.cross_entropy_loss(xs[0],ys[0]))\n",
    "results2, updates2 = theano.scan(lambda xi, yi: trainer.cross_entropy_loss(xi, yi),\n",
    "                              sequences = [xs,ys])\n",
    "                              #outputs_info = trainer.cross_entropy_loss(xs[0],ys[0]))\n",
    "loss_fn1 = theano.function(\n",
    "    inputs = [xs,ys],\n",
    "    outputs = -T.mean(results1[-1])\n",
    ")\n",
    "loss_fn2 = theano.function(\n",
    "    inputs = [xs,ys],\n",
    "    outputs = -T.mean(results2)\n",
    ")\n",
    "print(\"loss_fn compiled\")\n",
    "t1 = time.time()\n",
    "loss1 = loss_fn1(shared_x.get_value()[0:500], shared_y.get_value()[0:500])\n",
    "print(time.time()-t1)\n",
    "t2 = time.time()\n",
    "loss2 = loss_fn2(shared_x.get_value()[0:500], shared_y.get_value()[0:500])\n",
    "print(time.time()-t2)\n",
    "# loss2 = -np.mean(loss1, axis=0)\n",
    "# loss2.shape"
   ]
  },
  {
   "cell_type": "code",
   "execution_count": 44,
   "metadata": {
    "collapsed": false
   },
   "outputs": [
    {
     "name": "stdout",
     "output_type": "stream",
     "text": [
      "CHAPTER 1. Loom\n",
      "HAPTER 1. Loomi\n",
      "s!)!e!!!!( !   \n",
      "(M1w[)!(on& n,(\n",
      "r!Hs7,(  ( ,&  \n",
      "ic J)@mm !,,!!,\n",
      "0]c\"9QW:%-)!(s!\n",
      "n.Qw) !),(s!s  \n",
      "GzzEmn!!,n!  ,!\n",
      "&( s?( n!  (   \n",
      "tFt1 L HW!Y!!,!\n",
      "DEYsQ,(!i- 7&C(\n",
      "&( s?( n!  (   \n",
      "OwFv:zKoXG5 (G!\n",
      "K$L!H! !,!,,  C\n",
      "K$L!H! !,!,,  C\n",
      "@mws! s!( !!  C\n",
      "D25PQ ( o!  n!w\n",
      "$gG! & ($n& (,&\n",
      "KN?$tnE& !,,s C\n",
      "p@)![s! ,! ( ,&\n",
      "DEYsQ,(!i- 7&C(\n",
      "s!)!e!!!!( !   \n",
      "hx[s-([w(q(& ( \n",
      "C0Z]m[ !n!! (n \n",
      "C0Z]m[ !n!! (n \n",
      "&( s?( n!  (   \n",
      "@mws! s!( !!  C\n",
      "&k&!n)!!(!!s ! \n",
      "&( s?( n!  (   \n",
      "aCsm)!(,!(  &  \n",
      "p@)![s! ,! ( ,&\n",
      "h_YsK[s!!,!,i C\n",
      "@mws! s!( !!  C\n",
      "hx[s-([w(q(& ( \n",
      "&k&!n)!!(!!s ! \n",
      "C0Z]m[ !n!! (n \n",
      "DEYsQ,(!i- 7&C(\n",
      "&( s?( n!  (   \n",
      "\"a-dw)!ss!!!!( \n",
      "K$L!H! !,!,,  C\n",
      "@mws! s!( !!  C\n",
      "&k&!n)!!(!!s ! \n",
      "&( s?( n!  (   \n",
      "C]PYs!(!! (nw( \n",
      "&k&!n)!!(!!s ! \n",
      "hx[s-([w(q(& ( \n",
      " cs@m)!!!,,s  ,\n",
      "p@)![s! ,! ( ,&\n",
      "&( s?( n!  (   \n",
      "hx[s-([w(q(& ( \n",
      "KN?$tnE& !,,s C\n",
      "K$L!H! !,!,,  C\n",
      "bBM @m!!!,!( , \n",
      "bBM @m!!!,!( , \n",
      "$gG! & ($n& (,&\n",
      "&k&!n)!!(!!s ! \n",
      "F_f*Qh?DQWm[s,/\n",
      "&k&!n)!!(!!s ! \n",
      " cs@m)!!!,,s  ,\n",
      "&( s?( n!  (   \n",
      "@mws! s!( !!  C\n",
      "D25PQ ( o!  n!w\n",
      "$gG! & ($n& (,&\n",
      "N8h-!,!( ! C( (\n",
      "&( s?( n!  (   \n",
      "h_YsK[s!!,!,i C\n",
      "K$L!H! !,!,,  C\n",
      "(W%w! ,!! $,  C\n",
      "&( s?( n!  (   \n",
      "C0Z]m[ !n!! (n \n",
      "K$L!H! !,!,,  C\n",
      "$gG! & ($n& (,&\n",
      "KN?$tnE& !,,s C\n",
      "&( s?( n!  (   \n",
      "a GCm))  !! n)!\n",
      " cs@m)!!!,,s  ,\n",
      "&k&!n)!!(!!s ! \n",
      "- qnw(NN(   C( \n",
      "D25PQ ( o!  n!w\n",
      "p@)![s! ,! ( ,&\n",
      "&k&!n)!!(!!s ! \n",
      "C0Z]m[ !n!! (n \n",
      "C]PYs!(!! (nw( \n",
      "bBM @m!!!,!( , \n",
      "bBM @m!!!,!( , \n",
      "h_YsK[s!!,!,i C\n",
      "hx[s-([w(q(& ( \n",
      "F_f*Qh?DQWm[s,/\n",
      "D25PQ ( o!  n!w\n",
      "$gG! & ($n& (,&\n",
      "KN?$tnE& !,,s C\n",
      "C0Z]m[ !n!! (n \n",
      "D25PQ ( o!  n!w\n",
      "2;m!! !,,&!  ,s\n",
      "2;m!! !,,&!  ,s\n",
      "C0Z]m[ !n!! (n \n",
      "&k&!n)!!(!!s ! \n",
      "&( s?( n!  (   \n",
      "K$L!H! !,!,,  C\n",
      " cs@m)!!!,,s  ,\n",
      "&( s?( n!  (   \n"
     ]
    }
   ],
   "source": [
    "import theano \n",
    "import theano.tensor as T \n",
    "import numpy as np \n",
    "from character_mapping import Character_Map\n",
    "import time\n",
    "try:\n",
    "    reload\n",
    "except NameError:\n",
    "    from imp import reload\n",
    "    \n",
    "import RNN  \n",
    "from RNN import RNNClass\n",
    "\n",
    "reload(RNN)\n",
    "from RNN import RNNClass\n",
    "\n",
    "trainer = RNNClass(nh, nx, ny)\n",
    "trainer.load_param('param_6-10_17:52/param_epoch199.dat')\n",
    "\n",
    "char_list = char_map_obj.unique_char\n",
    "# test_x = []\n",
    "# test_y = []\n",
    "\n",
    "# for x, y in zip(x_[0],y_[0]):\n",
    "#     test_x.append(char_list[np.argmax(x)])\n",
    "#     test_y.append(char_list[np.argmax(y)])\n",
    "# print(\"\".join(test_x))\n",
    "# print(\"\".join(test_y))\n",
    "\n",
    "# print(char_list)\n",
    "for i in xrange(100):\n",
    "    y_argmax = trainer.sequence_guess(x_[i][0],15)\n",
    "    char_guess = [] \n",
    "    for index in y_argmax:\n",
    "        char_guess.append(char_list[index])\n",
    "    guess = \"\".join(char_guess)\n",
    "    print(guess)\n",
    "\n"
   ]
  },
  {
   "cell_type": "code",
   "execution_count": null,
   "metadata": {
    "collapsed": true
   },
   "outputs": [],
   "source": []
  }
 ],
 "metadata": {
  "kernelspec": {
   "display_name": "Python 2",
   "language": "python",
   "name": "python2"
  },
  "language_info": {
   "codemirror_mode": {
    "name": "ipython",
    "version": 2
   },
   "file_extension": ".py",
   "mimetype": "text/x-python",
   "name": "python",
   "nbconvert_exporter": "python",
   "pygments_lexer": "ipython2",
   "version": "2.7.6"
  }
 },
 "nbformat": 4,
 "nbformat_minor": 0
}
