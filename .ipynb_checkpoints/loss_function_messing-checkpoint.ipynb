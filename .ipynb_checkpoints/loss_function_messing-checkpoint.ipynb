{
 "cells": [
  {
   "cell_type": "code",
   "execution_count": 49,
   "metadata": {
    "collapsed": false
   },
   "outputs": [
    {
     "name": "stdout",
     "output_type": "stream",
     "text": [
      "Time creating character mapping and pickling: 1.8681 sec\n",
      "Time creating k map 3.738 sec\n",
      "Time creating arrays: 2.906 sec\n",
      "15\n"
     ]
    }
   ],
   "source": [
    "from RNN import RNN \n",
    "from character_mapping import Character_Map \n",
    "import theano \n",
    "import theano.tensor as T\n",
    "import numpy as np \n",
    "\n",
    "\n",
    "text_test = './../texts/melville.txt'\n",
    "char_map_obj = Character_Map(text_test,'mapping.dat',overwrite=True, break_line=None)\n",
    "char_map_obj.k_map()\n",
    "x_, y_, shared_x, shared_y = char_map_obj.gen_x_and_y(filename=None)\n",
    "\n",
    "# print(shared_y.get_value().shape[1])\n",
    "nh = 100\n",
    "nx = len(char_map_obj.unique_char)\n",
    "ny = nx \n",
    "\n",
    "wx = theano.shared(name='wx',\n",
    "                    value=0.2 * np.random.uniform(-1.0, 1.0,\n",
    "                    (nx, nh))\n",
    "                    .astype(theano.config.floatX)) #input weights\n",
    "\n",
    "wh = theano.shared(name='wh',\n",
    "                    value=0.2 * np.random.uniform(-1.0, 1.0,\n",
    "                    (nh, nh))\n",
    "                    .astype(theano.config.floatX)) #hidden layer weights\n",
    "\n",
    "wy = theano.shared(name='wy',\n",
    "                       value=0.2 * np.random.uniform(-1.0, 1.0,\n",
    "                       (nh, ny))\n",
    "                       .astype(theano.config.floatX)) #output weights\n",
    "\n",
    "bh = theano.shared(name='bh',\n",
    "                        value=np.zeros(nh,\n",
    "                        dtype=theano.config.floatX)) #hidden layer bias\n",
    "\n",
    "by = theano.shared(name='b',\n",
    "                       value=np.zeros(ny,\n",
    "                       dtype=theano.config.floatX)) #output layer bias\n",
    "\n",
    "h0 = theano.shared(name='h0',\n",
    "                        value=np.zeros(nh,\n",
    "                        dtype=theano.config.floatX)) #initial h vector \n",
    "\n",
    "\n"
   ]
  },
  {
   "cell_type": "code",
   "execution_count": 62,
   "metadata": {
    "collapsed": false
   },
   "outputs": [],
   "source": [
    "# print(shared_x.get_value()[0].shape)\n",
    "# print(shared_y.get_value()[0].shape)\n",
    "\n",
    "def step(x,h_tm1,wx,wh,wy,bh,by):\n",
    "    h = T.tanh(T.dot(x,wx) + T.dot(h_tm1, wh) + bh)\n",
    "    y_hat = by + T.dot(h,wy)\n",
    "    y_guess = T.nnet.softmax(y_hat) \n",
    "    return h, y_guess\n",
    "    \n",
    "x = T.matrix('x')\n",
    "y = T.imatrix('y')\n",
    "\n",
    "# foo = step(x,h0,wx,wh,wy,bh,by)\n",
    "\n",
    "# fn1 = theano.function(inputs=[x],\n",
    "#                      outputs=foo)\n",
    "\n",
    "# print(fn1(shared_x.get_value()[0]))\n",
    "\n",
    "[h,s], _ = theano.scan(fn=step,\n",
    "                    sequences=x,\n",
    "                    outputs_info=[h0, None],\n",
    "                    non_sequences = [wx,wh,wy,bh,by])\n",
    "\n",
    "\n",
    "foo = T.log(s)[T.arange(y.shape[0]),y]\n",
    "\n",
    "# error = -T.mean(T.log(s)[T.arange(y.shape[0]), y])\n",
    "# fn2 = theano.function([x],s)\n",
    "# fn2(shared_x.get_value()[0])\n",
    "\n",
    "# fn = theano.function([x,y],error)\n",
    "\n",
    "fn(shared_x.get_value()[0],shared_y.get_value()[0])"
   ]
  },
  {
   "cell_type": "code",
   "execution_count": null,
   "metadata": {
    "collapsed": true
   },
   "outputs": [],
   "source": []
  }
 ],
 "metadata": {
  "kernelspec": {
   "display_name": "Python 2",
   "language": "python",
   "name": "python2"
  },
  "language_info": {
   "codemirror_mode": {
    "name": "ipython",
    "version": 2
   },
   "file_extension": ".py",
   "mimetype": "text/x-python",
   "name": "python",
   "nbconvert_exporter": "python",
   "pygments_lexer": "ipython2",
   "version": "2.7.6"
  }
 },
 "nbformat": 4,
 "nbformat_minor": 0
}
