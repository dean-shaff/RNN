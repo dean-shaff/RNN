{
 "cells": [
  {
   "cell_type": "code",
   "execution_count": 8,
   "metadata": {
    "collapsed": false
   },
   "outputs": [
    {
     "name": "stdout",
     "output_type": "stream",
     "text": [
      "Time creating character mapping and pickling: 2.0342 sec\n",
      "Time creating k map 3.124 sec\n",
      "Time creating arrays: 3.078 sec\n"
     ]
    }
   ],
   "source": [
    "from RNN import RNN \n",
    "from character_mapping import Character_Map \n",
    "import theano \n",
    "import theano.tensor as T\n",
    "import numpy as np \n",
    "\n",
    "\n",
    "text_test = './../texts/melville.txt'\n",
    "char_map_obj = Character_Map(text_test,'mapping.dat',overwrite=True, break_line=None)\n",
    "char_map_obj.k_map()\n",
    "x_, y_, shared_x, shared_y = char_map_obj.gen_x_and_y(filename=None)\n",
    "\n",
    "# print(shared_y.get_value().shape[1])\n",
    "nh = 100\n",
    "nx = len(char_map_obj.unique_char)\n",
    "ny = nx \n",
    "\n",
    "wx = theano.shared(name='wx',\n",
    "                    value=0.2 * np.random.uniform(-1.0, 1.0,\n",
    "                    (nx, nh))\n",
    "                    .astype(theano.config.floatX)) #input weights\n",
    "\n",
    "wh = theano.shared(name='wh',\n",
    "                    value=0.2 * np.random.uniform(-1.0, 1.0,\n",
    "                    (nh, nh))\n",
    "                    .astype(theano.config.floatX)) #hidden layer weights\n",
    "\n",
    "wy = theano.shared(name='wy',\n",
    "                       value=0.2 * np.random.uniform(-1.0, 1.0,\n",
    "                       (nh, ny))\n",
    "                       .astype(theano.config.floatX)) #output weights\n",
    "\n",
    "bh = theano.shared(name='bh',\n",
    "                        value=np.zeros(nh,\n",
    "                        dtype=theano.config.floatX)) #hidden layer bias\n",
    "\n",
    "by = theano.shared(name='b',\n",
    "                       value=np.zeros(ny,\n",
    "                       dtype=theano.config.floatX)) #output layer bias\n",
    "\n",
    "h0 = theano.shared(name='h0',\n",
    "                        value=np.zeros(nh,\n",
    "                        dtype=theano.config.floatX)) #initial h vector \n",
    "\n",
    "\n"
   ]
  },
  {
   "cell_type": "code",
   "execution_count": 9,
   "metadata": {
    "collapsed": false
   },
   "outputs": [
    {
     "name": "stdout",
     "output_type": "stream",
     "text": [
      "Elemwise{Cast{int32}}.0\n"
     ]
    },
    {
     "ename": "AttributeError",
     "evalue": "'TensorVariable' object has no attribute 'get_value'",
     "output_type": "error",
     "traceback": [
      "\u001b[0;31m---------------------------------------------------------------------------\u001b[0m",
      "\u001b[0;31mAttributeError\u001b[0m                            Traceback (most recent call last)",
      "\u001b[0;32m<ipython-input-9-40d316082844>\u001b[0m in \u001b[0;36m<module>\u001b[0;34m()\u001b[0m\n\u001b[1;32m     22\u001b[0m \u001b[0mfn\u001b[0m \u001b[0;34m=\u001b[0m \u001b[0mtheano\u001b[0m\u001b[0;34m.\u001b[0m\u001b[0mfunction\u001b[0m\u001b[0;34m(\u001b[0m\u001b[0;34m[\u001b[0m\u001b[0mx\u001b[0m\u001b[0;34m,\u001b[0m\u001b[0my\u001b[0m\u001b[0;34m]\u001b[0m\u001b[0;34m,\u001b[0m\u001b[0merror\u001b[0m\u001b[0;34m)\u001b[0m\u001b[0;34m\u001b[0m\u001b[0m\n\u001b[1;32m     23\u001b[0m \u001b[0;34m\u001b[0m\u001b[0m\n\u001b[0;32m---> 24\u001b[0;31m \u001b[0mfn\u001b[0m\u001b[0;34m(\u001b[0m\u001b[0mshared_x\u001b[0m\u001b[0;34m.\u001b[0m\u001b[0mget_value\u001b[0m\u001b[0;34m(\u001b[0m\u001b[0;34m)\u001b[0m\u001b[0;34m[\u001b[0m\u001b[0;36m0\u001b[0m\u001b[0;34m]\u001b[0m\u001b[0;34m,\u001b[0m\u001b[0mshared_y\u001b[0m\u001b[0;34m.\u001b[0m\u001b[0mget_value\u001b[0m\u001b[0;34m(\u001b[0m\u001b[0;34m)\u001b[0m\u001b[0;34m[\u001b[0m\u001b[0;36m0\u001b[0m\u001b[0;34m]\u001b[0m\u001b[0;34m)\u001b[0m\u001b[0;34m\u001b[0m\u001b[0m\n\u001b[0m",
      "\u001b[0;31mAttributeError\u001b[0m: 'TensorVariable' object has no attribute 'get_value'"
     ]
    }
   ],
   "source": [
    "# print(shared_x.get_value()[0].shape)\n",
    "# print(shared_y.get_value()[0].shape)\n",
    "\n",
    "def step(x,h_tm1,wx,wh,wy,bh,by):\n",
    "    h = T.tanh(T.dot(x,wx) + T.dot(h_tm1, wh) + bh)\n",
    "    y_hat = by + T.dot(h,wy)\n",
    "    y_guess = T.nnet.softmax(y_hat) \n",
    "    return h, y_guess\n",
    "    \n",
    "x = T.matrix('x')\n",
    "y = T.imatrix('y')\n",
    "# shared_y = T.cast(shared_y,'int32')\n",
    "\n",
    "[h,s], _ = theano.scan(fn=step,\n",
    "                    sequences=x,\n",
    "                    outputs_info=[h0, None],\n",
    "                    non_sequences = [wx,wh,wy,bh,by])\n",
    "\n",
    "\n",
    "error = -T.mean(T.log(s)[T.arange(y.shape[0]), y])\n",
    "\n",
    "fn = theano.function([x,y],error)\n",
    "\n",
    "fn(shared_x.get_value()[0],shared_y.get_value()[0])"
   ]
  },
  {
   "cell_type": "code",
   "execution_count": null,
   "metadata": {
    "collapsed": true
   },
   "outputs": [],
   "source": []
  }
 ],
 "metadata": {
  "kernelspec": {
   "display_name": "Python 2",
   "language": "python",
   "name": "python2"
  },
  "language_info": {
   "codemirror_mode": {
    "name": "ipython",
    "version": 2
   },
   "file_extension": ".py",
   "mimetype": "text/x-python",
   "name": "python",
   "nbconvert_exporter": "python",
   "pygments_lexer": "ipython2",
   "version": "2.7.6"
  }
 },
 "nbformat": 4,
 "nbformat_minor": 0
}
