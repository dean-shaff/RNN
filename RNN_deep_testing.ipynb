{
 "cells": [
  {
   "cell_type": "code",
   "execution_count": 1,
   "metadata": {
    "collapsed": false
   },
   "outputs": [
    {
     "name": "stdout",
     "output_type": "stream",
     "text": [
      "Time creating character mapping and pickling: 2.0568 sec\n",
      "Time creating k map 3.468 sec\n",
      "Time creating arrays: 2.174 sec\n"
     ]
    }
   ],
   "source": [
    "from character_mapping import Character_Map \n",
    "import theano \n",
    "import theano.tensor as T\n",
    "import numpy as np \n",
    "\n",
    "text_test = './../texts/melville.txt'\n",
    "char_map_obj = Character_Map(text_test,'mapping.dat',overwrite=True, break_line=None)\n",
    "char_map_obj.k_map()\n",
    "x_, y_, shared_x, shared_y = char_map_obj.gen_x_and_y(filename=None)\n",
    "\n",
    "# print(shared_y.get_value().shape[1])\n",
    "\n",
    "nx = len(char_map_obj.unique_char)\n",
    "ny = nx "
   ]
  },
  {
   "cell_type": "code",
   "execution_count": 32,
   "metadata": {
    "collapsed": false
   },
   "outputs": [
    {
     "data": {
      "text/plain": [
       "array([[-0.13112978, -0.15399068, -0.10497031, ...,  0.03696739,\n",
       "         0.09373958, -0.11500896],\n",
       "       [-0.25029938, -0.02789717, -0.10845419, ..., -0.09098844,\n",
       "         0.02954962, -0.03544321],\n",
       "       [-0.17934134, -0.27945371,  0.33471297, ..., -0.06689179,\n",
       "         0.02973601, -0.09440558],\n",
       "       ..., \n",
       "       [ 0.08526317,  0.11492525, -0.29777978, ...,  0.3115845 ,\n",
       "         0.44275121, -0.00718219],\n",
       "       [ 0.21151558, -0.05881702, -0.05240773, ...,  0.65317816,\n",
       "         0.73095037,  0.2368114 ],\n",
       "       [-0.00695481,  0.6208282 , -0.53323071, ..., -0.60167128,\n",
       "         0.37197133, -0.23041323]])"
      ]
     },
     "execution_count": 32,
     "metadata": {},
     "output_type": "execute_result"
    }
   ],
   "source": [
    "import theano \n",
    "import theano.tensor as T \n",
    "import numpy as np \n",
    "from character_mapping import Character_Map\n",
    "import time\n",
    "try:\n",
    "    reload\n",
    "except NameError:\n",
    "    from imp import reload\n",
    "    \n",
    "import RNNdeep \n",
    "from RNNdeep import RNN_multilayer\n",
    "\n",
    "reload(RNNdeep)\n",
    "from RNNdeep import RNN_multilayer\n",
    "nh_vector = [100,110,120,130]\n",
    "trainer = RNN_multilayer(nh_vector, nx, ny)\n",
    "\n",
    "# for i in xrange(4):\n",
    "#     print(trainer.wx_n[i].get_value().shape)\n",
    "#     print(trainer.whh_n[i].get_value().shape)\n",
    "# for i in xrange(3):\n",
    "#     print(trainer.whm1h_n[i].get_value().shape)\n",
    "    \n",
    "x = T.matrix('x')\n",
    "y = T.matrix('y')\n",
    "# print(trainer.h0_n[0].get_value())\n",
    "# h_init, _ = theano.scan(fn=trainer.feed_through_1,\n",
    "#                         sequences=x,\n",
    "#                         outputs_info=trainer.h0_n[0].get_value())\n",
    "\n",
    "# f = theano.function([x],h_init)\n",
    "loss = trainer.cross_entropy_loss(x)\n",
    "f = theano.function([x],loss)\n",
    "\n",
    "f(shared_x.get_value()[0])#,shared_y.get_value()[0])"
   ]
  },
  {
   "cell_type": "code",
   "execution_count": null,
   "metadata": {
    "collapsed": true
   },
   "outputs": [],
   "source": []
  },
  {
   "cell_type": "code",
   "execution_count": null,
   "metadata": {
    "collapsed": true
   },
   "outputs": [],
   "source": []
  }
 ],
 "metadata": {
  "kernelspec": {
   "display_name": "Python 2",
   "language": "python",
   "name": "python2"
  },
  "language_info": {
   "codemirror_mode": {
    "name": "ipython",
    "version": 2
   },
   "file_extension": ".py",
   "mimetype": "text/x-python",
   "name": "python",
   "nbconvert_exporter": "python",
   "pygments_lexer": "ipython2",
   "version": "2.7.6"
  }
 },
 "nbformat": 4,
 "nbformat_minor": 0
}
