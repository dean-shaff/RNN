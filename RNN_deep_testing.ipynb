{
 "cells": [
  {
   "cell_type": "code",
   "execution_count": 1,
   "metadata": {
    "collapsed": false
   },
   "outputs": [
    {
     "name": "stdout",
     "output_type": "stream",
     "text": [
      "Time creating character mapping and pickling: 2.0568 sec\n",
      "Time creating k map 3.468 sec\n",
      "Time creating arrays: 2.174 sec\n"
     ]
    }
   ],
   "source": [
    "from character_mapping import Character_Map \n",
    "import theano \n",
    "import theano.tensor as T\n",
    "import numpy as np \n",
    "\n",
    "text_test = './../texts/melville.txt'\n",
    "char_map_obj = Character_Map(text_test,'mapping.dat',overwrite=True, break_line=None)\n",
    "char_map_obj.k_map()\n",
    "x_, y_, shared_x, shared_y = char_map_obj.gen_x_and_y(filename=None)\n",
    "\n",
    "# print(shared_y.get_value().shape[1])\n",
    "\n",
    "nx = len(char_map_obj.unique_char)\n",
    "ny = nx "
   ]
  },
  {
   "cell_type": "code",
   "execution_count": 9,
   "metadata": {
    "collapsed": false
   },
   "outputs": [
    {
     "name": "stdout",
     "output_type": "stream",
     "text": [
      "3\n",
      "(83, 100)\n",
      "(100, 100)\n",
      "(83, 110)\n",
      "(110, 110)\n",
      "(83, 120)\n",
      "(120, 120)\n",
      "(83, 130)\n",
      "(130, 130)\n",
      "(100, 110)\n",
      "(110, 120)\n",
      "(120, 130)\n"
     ]
    }
   ],
   "source": [
    "import theano \n",
    "import theano.tensor as T \n",
    "import numpy as np \n",
    "from character_mapping import Character_Map\n",
    "import time\n",
    "try:\n",
    "    reload\n",
    "except NameError:\n",
    "    from imp import reload\n",
    "    \n",
    "import RNNdeep \n",
    "from RNNdeep import RNN_multilayer\n",
    "\n",
    "reload(RNNdeep)\n",
    "from RNNdeep import RNN_multilayer\n",
    "nh_vector = [100,110,120,130]\n",
    "trainer = RNN_multilayer(nh_vector, nx, ny)\n",
    "\n",
    "for i in xrange(4):\n",
    "    print(trainer.wx_n[i].get_value().shape)\n",
    "    print(trainer.whh_n[i].get_value().shape)\n",
    "for i in xrange(3):\n",
    "    print(trainer.whm1h_n[i].get_value().shape)\n"
   ]
  },
  {
   "cell_type": "code",
   "execution_count": null,
   "metadata": {
    "collapsed": true
   },
   "outputs": [],
   "source": []
  }
 ],
 "metadata": {
  "kernelspec": {
   "display_name": "Python 2",
   "language": "python",
   "name": "python2"
  },
  "language_info": {
   "codemirror_mode": {
    "name": "ipython",
    "version": 2
   },
   "file_extension": ".py",
   "mimetype": "text/x-python",
   "name": "python",
   "nbconvert_exporter": "python",
   "pygments_lexer": "ipython2",
   "version": "2.7.6"
  }
 },
 "nbformat": 4,
 "nbformat_minor": 0
}
